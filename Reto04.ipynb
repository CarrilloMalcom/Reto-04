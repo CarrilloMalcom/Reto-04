{
 "cells": [
  {
   "cell_type": "markdown",
   "metadata": {},
   "source": [
    "# Reto 04"
   ]
  },
  {
   "cell_type": "markdown",
   "metadata": {},
   "source": [
    "## 1."
   ]
  },
  {
   "cell_type": "code",
   "execution_count": null,
   "metadata": {},
   "outputs": [],
   "source": [
    "print(\"Ingrese un número\")\n",
    "a=input()\n",
    "try:\n",
    "    a=int(a)\n",
    "    a=abs(a)\n",
    "    b=chr(a)    \n",
    "    match b:\n",
    "        case \"a\":\n",
    "            print(\"El número que ingresaste corresponde a una vocal minuscula: \"+b)\n",
    "        case \"e\":\n",
    "            print(\"El número que ingresaste corresponde a una vocal minuscula: \"+b)\n",
    "        case \"i\":\n",
    "            print(\"El número que ingresaste corresponde a una vocal minuscula: \"+b)\n",
    "        case \"o\":\n",
    "            print(\"El número que ingresaste corresponde a una vocal minuscula: \"+b)\n",
    "        case \"u\":\n",
    "            print(\"El número que ingresaste corresponde a una vocal minuscula: \"+b)\n",
    "        case _:\n",
    "            print(\"El número que ingresaste NO corresponde a una vocal minuscula: \"+b)\n",
    "except ValueError:\n",
    "    print(\"No es un numero: \", a)\n",
    "    "
   ]
  },
  {
   "cell_type": "markdown",
   "metadata": {},
   "source": [
    "## 2."
   ]
  },
  {
   "cell_type": "code",
   "execution_count": null,
   "metadata": {},
   "outputs": [],
   "source": [
    "print(\"Ingrese una cadena de carácteres\")\n",
    "a=input()\n",
    "a=str(a)\n",
    "b= a[0]\n",
    "b=ord(b)\n",
    "\n",
    "if b%2==0:\n",
    "    print(\"El primer carácter de los ingresados sí es par\")\n",
    "else:\n",
    "    print(\"El primer carácter de los ingresados no es par\")"
   ]
  },
  {
   "cell_type": "markdown",
   "metadata": {},
   "source": [
    "## 3."
   ]
  },
  {
   "cell_type": "code",
   "execution_count": null,
   "metadata": {},
   "outputs": [],
   "source": [
    "print(\"Ingrese solo un caracter\")\n",
    "a=input()\n",
    "a=a[0]\n",
    "match a:\n",
    "    case \"0\":\n",
    "        print(\"El caracter que ingresaste es un digito: \"+a)\n",
    "    case \"1\":\n",
    "        print(\"El caracter que ingresaste es un digito: \"+a)\n",
    "    case \"2\":\n",
    "        print(\"El caracter que ingresaste es un digito: \"+a)\n",
    "    case \"3\":\n",
    "        print(\"El caracter que ingresaste es un digito: \"+a)\n",
    "    case \"4\":\n",
    "        print(\"El caracter que ingresaste es un digito: \"+a)\n",
    "    case \"5\":\n",
    "        print(\"El caracter que ingresaste es un digito: \"+a)\n",
    "    case \"6\":\n",
    "        print(\"El caracter que ingresaste es un digito: \"+a)\n",
    "    case \"7\":\n",
    "        print(\"El caracter que ingresaste es un digito: \"+a)\n",
    "    case \"8\":\n",
    "        print(\"El caracter que ingresaste es un digito: \"+a)\n",
    "    case \"9\":\n",
    "        print(\"El caracter que ingresaste es un digito: \"+a)\n",
    "    case _:\n",
    "        print(\"El caracter que ingresaste no es un digito: \"+a)\n"
   ]
  },
  {
   "cell_type": "markdown",
   "metadata": {},
   "source": [
    "## 4."
   ]
  },
  {
   "cell_type": "code",
   "execution_count": null,
   "metadata": {},
   "outputs": [],
   "source": [
    "print(\"Ingrese un número\")\n",
    "try:\n",
    "    a = int(input())\n",
    "    if a > 0:\n",
    "        print (\"El numero \", a, \" ingresado es positivo\")\n",
    "    elif a < 0:\n",
    "        print (\"El numero \", a, \" ingresado es negativo\")\n",
    "    else:\n",
    "        print(\"El numero ingresado es \", a)\n",
    "except ValueError:\n",
    "    print(\"No es un número\")\n",
    "    "
   ]
  },
  {
   "cell_type": "markdown",
   "metadata": {},
   "source": [
    "## 5"
   ]
  },
  {
   "cell_type": "code",
   "execution_count": null,
   "metadata": {},
   "outputs": [],
   "source": [
    "r=int(input(\"ingrese un Radio: \"))\n",
    "xc=int(input(\"Ingrese la coordenada x del centro del circulo: \"))\n",
    "yc=int(input(\"Ingrese la coordenada y del centro del circulo: \"))\n",
    "x=int(input(\"Ingrese la coordenada x de su punto\"))\n",
    "y=int(input(\"Ingrese la coordenada y de su punto\"))\n",
    "\n",
    "d=((((x-xc)**2)+((y-yc)**2))**0.5)\n",
    "if d<r:\n",
    "    print(\"El punto está dentro del circulo\")\n",
    "else:\n",
    "    print(\"El punto no pertenece al circulo\")"
   ]
  },
  {
   "cell_type": "markdown",
   "metadata": {},
   "source": [
    "## 6"
   ]
  },
  {
   "cell_type": "code",
   "execution_count": null,
   "metadata": {},
   "outputs": [],
   "source": [
    "print(\"Ingrese 3 longitudes positivas: \")\n",
    "a = int(input(\"a: \"))\n",
    "b = int(input(\"b: \"))\n",
    "c = int(input(\"c: \"))\n",
    "if a>b:\n",
    "    if a>c:\n",
    "        if a<(b+c):\n",
    "            print(\"Es posble crear un triangulo con estos lados\")\n",
    "        else:\n",
    "            print(\"No es posible crear un triangulo con estos lados\")\n",
    "    elif c>a:\n",
    "        if c<(a+b):\n",
    "            print(\"Es posble crear un triangulo con estos lados\")\n",
    "        else:\n",
    "            print(\"No es posible crear un triangulo con estos lados\")\n",
    "elif b>c:\n",
    "    if b<(a+c):\n",
    "        print(\"Es posble crear un triangulo con estos lados\")\n",
    "    else:\n",
    "        print(\"No es posible crear un triangulo con estos lados\")\n",
    "elif c<a+b:\n",
    "    print(\"Es posble crear un triangulo con estos lados\")\n",
    "else:\n",
    "    print(\"No es posible crear un triangulo con estos lados\")\n"
   ]
  }
 ],
 "metadata": {
  "kernelspec": {
   "display_name": "base",
   "language": "python",
   "name": "python3"
  },
  "language_info": {
   "codemirror_mode": {
    "name": "ipython",
    "version": 3
   },
   "file_extension": ".py",
   "mimetype": "text/x-python",
   "name": "python",
   "nbconvert_exporter": "python",
   "pygments_lexer": "ipython3",
   "version": "3.11.6"
  }
 },
 "nbformat": 4,
 "nbformat_minor": 2
}
